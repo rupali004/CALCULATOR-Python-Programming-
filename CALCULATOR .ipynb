{
 "cells": [
  {
   "cell_type": "markdown",
   "id": "7e2d89e0",
   "metadata": {},
   "source": [
    "# CODEWAY Internship Task"
   ]
  },
  {
   "cell_type": "markdown",
   "id": "399eccd0",
   "metadata": {},
   "source": [
    "# Python Programming"
   ]
  },
  {
   "cell_type": "markdown",
   "id": "275aee88",
   "metadata": {},
   "source": [
    "# TASK - 2"
   ]
  },
  {
   "cell_type": "markdown",
   "id": "5f5de363",
   "metadata": {},
   "source": [
    "Design a simple calculator with basic arithmetic operations. Prompt the\n",
    "user to input two numbers and an operation choice. Perform the\n",
    "calculation and display the result."
   ]
  },
  {
   "cell_type": "markdown",
   "id": "e949f5cc",
   "metadata": {},
   "source": [
    "# CALCULATOR"
   ]
  },
  {
   "cell_type": "code",
   "execution_count": 20,
   "id": "56fec295",
   "metadata": {},
   "outputs": [
    {
     "name": "stdout",
     "output_type": "stream",
     "text": [
      "1. for Addition\n",
      "2. for Substraction\n",
      "3. for Multiplication\n",
      "4. for Division\n",
      "5. for Remainder\n",
      "6. for floor division\n",
      "7. for Exponential\n",
      "Please enter your choice (1/2/3/4/5/6/7):-1\n",
      "Enter first value:-50\n",
      "Enter second value:-42\n",
      " 50 + 42 = 92\n",
      "THANK YOU for using CALCULATOR!!!!!!\n"
     ]
    }
   ],
   "source": [
    "\n",
    "\n",
    "print(\"1. for Addition\")\n",
    "print(\"2. for Substraction\")\n",
    "print(\"3. for Multiplication\")\n",
    "print(\"4. for Division\")\n",
    "print(\"5. for Remainder\")\n",
    "print(\"6. for floor division\")\n",
    "print(\"7. for Exponential\")\n",
    "\n",
    "ch= input(\"Please enter your choice (1/2/3/4/5/6/7):-\")\n",
    "\n",
    "if ch==\"1\":\n",
    "    x=int(input(\"Enter first value:-\"))\n",
    "    y= int(input(\"Enter second value:-\"))\n",
    "    s=x+y\n",
    "    print(\" {} + {} = {}\".format(x,y,s))\n",
    "    \n",
    "elif ch==\"2\":\n",
    "    x=int(input(\"Enter first value:-\"))\n",
    "    y= int(input(\"Enter second value:-\"))\n",
    "    s=x-y\n",
    "    print(\" {} - {} = {}\".format(x,y,s))\n",
    "    \n",
    "elif ch==\"3\":\n",
    "    x=int(input(\"Enter first value:-\"))\n",
    "    y= int(input(\"Enter second value:-\"))\n",
    "    s=x*y\n",
    "    print(\" {} * {} = {}\".format(x,y,s))\n",
    "    \n",
    "elif ch==\"4\":\n",
    "    x=int(input(\"Enter first value:-\"))\n",
    "    y= int(input(\"Enter second value:-\"))\n",
    "    s=x/y\n",
    "    print(\" {} / {} = {}\".format(x,y,s))\n",
    "    \n",
    "elif ch==\"5\":\n",
    "    x=int(input(\"Enter first value:-\"))\n",
    "    y= int(input(\"Enter second value:-\"))\n",
    "    s=x%y\n",
    "    print(\" {} % {} = {}\".format(x,y,s))\n",
    "    \n",
    "elif ch==\"6\":\n",
    "    x=int(input(\"Enter first value:-\"))\n",
    "    y= int(input(\"Enter second value:-\"))\n",
    "    s=x//y\n",
    "    print(\"{} // {} = {}\".format(x,y,s))\n",
    "    \n",
    "elif ch==\"7\":\n",
    "    x=int(input(\"Enter first value:-\"))\n",
    "    y= int(input(\"Enter second value:-\"))\n",
    "    s=x**y\n",
    "    print(\" {} ** {} = {}\".format(x,y,s))    \n",
    "    \n",
    "\n",
    "    \n",
    "else: print(\"Operation not found.....7!\")\n",
    "\n",
    "print(\"THANK YOU for using CALCULATOR!!!!!!\")\n",
    "    "
   ]
  },
  {
   "cell_type": "code",
   "execution_count": null,
   "id": "fd90d860",
   "metadata": {},
   "outputs": [],
   "source": []
  }
 ],
 "metadata": {
  "kernelspec": {
   "display_name": "Python 3 (ipykernel)",
   "language": "python",
   "name": "python3"
  },
  "language_info": {
   "codemirror_mode": {
    "name": "ipython",
    "version": 3
   },
   "file_extension": ".py",
   "mimetype": "text/x-python",
   "name": "python",
   "nbconvert_exporter": "python",
   "pygments_lexer": "ipython3",
   "version": "3.9.13"
  }
 },
 "nbformat": 4,
 "nbformat_minor": 5
}
